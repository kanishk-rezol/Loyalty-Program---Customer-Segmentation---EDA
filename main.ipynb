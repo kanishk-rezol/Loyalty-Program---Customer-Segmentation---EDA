{
 "cells": [
  {
   "cell_type": "code",
   "execution_count": 132,
   "id": "649ba3ca",
   "metadata": {},
   "outputs": [
    {
     "name": "stdout",
     "output_type": "stream",
     "text": [
      "Requirement already satisfied: pandas in c:\\users\\kanis\\miniconda3\\lib\\site-packages (2.3.0)\n",
      "Requirement already satisfied: numpy>=1.26.0 in c:\\users\\kanis\\miniconda3\\lib\\site-packages (from pandas) (2.3.0)\n",
      "Requirement already satisfied: python-dateutil>=2.8.2 in c:\\users\\kanis\\miniconda3\\lib\\site-packages (from pandas) (2.9.0.post0)\n",
      "Requirement already satisfied: pytz>=2020.1 in c:\\users\\kanis\\miniconda3\\lib\\site-packages (from pandas) (2025.2)\n",
      "Requirement already satisfied: tzdata>=2022.7 in c:\\users\\kanis\\miniconda3\\lib\\site-packages (from pandas) (2025.2)\n",
      "Requirement already satisfied: six>=1.5 in c:\\users\\kanis\\miniconda3\\lib\\site-packages (from python-dateutil>=2.8.2->pandas) (1.17.0)\n",
      "Requirement already satisfied: openpyxl in c:\\users\\kanis\\miniconda3\\lib\\site-packages (3.1.5)\n",
      "Requirement already satisfied: et-xmlfile in c:\\users\\kanis\\miniconda3\\lib\\site-packages (from openpyxl) (2.0.0)\n",
      "Requirement already satisfied: seaborn in c:\\users\\kanis\\miniconda3\\lib\\site-packages (0.13.2)\n",
      "Requirement already satisfied: numpy!=1.24.0,>=1.20 in c:\\users\\kanis\\miniconda3\\lib\\site-packages (from seaborn) (2.3.0)\n",
      "Requirement already satisfied: pandas>=1.2 in c:\\users\\kanis\\miniconda3\\lib\\site-packages (from seaborn) (2.3.0)\n",
      "Requirement already satisfied: matplotlib!=3.6.1,>=3.4 in c:\\users\\kanis\\miniconda3\\lib\\site-packages (from seaborn) (3.10.3)\n",
      "Requirement already satisfied: contourpy>=1.0.1 in c:\\users\\kanis\\miniconda3\\lib\\site-packages (from matplotlib!=3.6.1,>=3.4->seaborn) (1.3.2)\n",
      "Requirement already satisfied: cycler>=0.10 in c:\\users\\kanis\\miniconda3\\lib\\site-packages (from matplotlib!=3.6.1,>=3.4->seaborn) (0.12.1)\n",
      "Requirement already satisfied: fonttools>=4.22.0 in c:\\users\\kanis\\miniconda3\\lib\\site-packages (from matplotlib!=3.6.1,>=3.4->seaborn) (4.58.4)\n",
      "Requirement already satisfied: kiwisolver>=1.3.1 in c:\\users\\kanis\\miniconda3\\lib\\site-packages (from matplotlib!=3.6.1,>=3.4->seaborn) (1.4.8)\n",
      "Requirement already satisfied: packaging>=20.0 in c:\\users\\kanis\\miniconda3\\lib\\site-packages (from matplotlib!=3.6.1,>=3.4->seaborn) (24.2)\n",
      "Requirement already satisfied: pillow>=8 in c:\\users\\kanis\\miniconda3\\lib\\site-packages (from matplotlib!=3.6.1,>=3.4->seaborn) (11.2.1)\n",
      "Requirement already satisfied: pyparsing>=2.3.1 in c:\\users\\kanis\\miniconda3\\lib\\site-packages (from matplotlib!=3.6.1,>=3.4->seaborn) (3.2.3)\n",
      "Requirement already satisfied: python-dateutil>=2.7 in c:\\users\\kanis\\miniconda3\\lib\\site-packages (from matplotlib!=3.6.1,>=3.4->seaborn) (2.9.0.post0)\n",
      "Requirement already satisfied: pytz>=2020.1 in c:\\users\\kanis\\miniconda3\\lib\\site-packages (from pandas>=1.2->seaborn) (2025.2)\n",
      "Requirement already satisfied: tzdata>=2022.7 in c:\\users\\kanis\\miniconda3\\lib\\site-packages (from pandas>=1.2->seaborn) (2025.2)\n",
      "Requirement already satisfied: six>=1.5 in c:\\users\\kanis\\miniconda3\\lib\\site-packages (from python-dateutil>=2.7->matplotlib!=3.6.1,>=3.4->seaborn) (1.17.0)\n",
      "Requirement already satisfied: matplotlib in c:\\users\\kanis\\miniconda3\\lib\\site-packages (3.10.3)\n",
      "Requirement already satisfied: contourpy>=1.0.1 in c:\\users\\kanis\\miniconda3\\lib\\site-packages (from matplotlib) (1.3.2)\n",
      "Requirement already satisfied: cycler>=0.10 in c:\\users\\kanis\\miniconda3\\lib\\site-packages (from matplotlib) (0.12.1)\n",
      "Requirement already satisfied: fonttools>=4.22.0 in c:\\users\\kanis\\miniconda3\\lib\\site-packages (from matplotlib) (4.58.4)\n",
      "Requirement already satisfied: kiwisolver>=1.3.1 in c:\\users\\kanis\\miniconda3\\lib\\site-packages (from matplotlib) (1.4.8)\n",
      "Requirement already satisfied: numpy>=1.23 in c:\\users\\kanis\\miniconda3\\lib\\site-packages (from matplotlib) (2.3.0)\n",
      "Requirement already satisfied: packaging>=20.0 in c:\\users\\kanis\\miniconda3\\lib\\site-packages (from matplotlib) (24.2)\n",
      "Requirement already satisfied: pillow>=8 in c:\\users\\kanis\\miniconda3\\lib\\site-packages (from matplotlib) (11.2.1)\n",
      "Requirement already satisfied: pyparsing>=2.3.1 in c:\\users\\kanis\\miniconda3\\lib\\site-packages (from matplotlib) (3.2.3)\n",
      "Requirement already satisfied: python-dateutil>=2.7 in c:\\users\\kanis\\miniconda3\\lib\\site-packages (from matplotlib) (2.9.0.post0)\n",
      "Requirement already satisfied: six>=1.5 in c:\\users\\kanis\\miniconda3\\lib\\site-packages (from python-dateutil>=2.7->matplotlib) (1.17.0)\n",
      "Requirement already satisfied: StandardScaler in c:\\users\\kanis\\miniconda3\\lib\\site-packages (0.5)\n",
      "Requirement already satisfied: numpy in c:\\users\\kanis\\miniconda3\\lib\\site-packages (from StandardScaler) (2.3.0)\n",
      "Requirement already satisfied: pandas in c:\\users\\kanis\\miniconda3\\lib\\site-packages (from StandardScaler) (2.3.0)\n",
      "Requirement already satisfied: scikit-learn in c:\\users\\kanis\\miniconda3\\lib\\site-packages (from StandardScaler) (1.7.0)\n",
      "Requirement already satisfied: scikit-elm in c:\\users\\kanis\\miniconda3\\lib\\site-packages (from StandardScaler) (0.21a0)\n",
      "Requirement already satisfied: dask in c:\\users\\kanis\\miniconda3\\lib\\site-packages (from StandardScaler) (2025.5.1)\n",
      "Requirement already satisfied: click>=8.1 in c:\\users\\kanis\\miniconda3\\lib\\site-packages (from dask->StandardScaler) (8.2.1)\n",
      "Requirement already satisfied: cloudpickle>=3.0.0 in c:\\users\\kanis\\miniconda3\\lib\\site-packages (from dask->StandardScaler) (3.1.1)\n",
      "Requirement already satisfied: fsspec>=2021.09.0 in c:\\users\\kanis\\miniconda3\\lib\\site-packages (from dask->StandardScaler) (2025.5.1)\n",
      "Requirement already satisfied: packaging>=20.0 in c:\\users\\kanis\\miniconda3\\lib\\site-packages (from dask->StandardScaler) (24.2)\n",
      "Requirement already satisfied: partd>=1.4.0 in c:\\users\\kanis\\miniconda3\\lib\\site-packages (from dask->StandardScaler) (1.4.2)\n",
      "Requirement already satisfied: pyyaml>=5.3.1 in c:\\users\\kanis\\miniconda3\\lib\\site-packages (from dask->StandardScaler) (6.0.2)\n",
      "Requirement already satisfied: toolz>=0.10.0 in c:\\users\\kanis\\miniconda3\\lib\\site-packages (from dask->StandardScaler) (1.0.0)\n",
      "Requirement already satisfied: python-dateutil>=2.8.2 in c:\\users\\kanis\\miniconda3\\lib\\site-packages (from pandas->StandardScaler) (2.9.0.post0)\n",
      "Requirement already satisfied: pytz>=2020.1 in c:\\users\\kanis\\miniconda3\\lib\\site-packages (from pandas->StandardScaler) (2025.2)\n",
      "Requirement already satisfied: tzdata>=2022.7 in c:\\users\\kanis\\miniconda3\\lib\\site-packages (from pandas->StandardScaler) (2025.2)\n",
      "Requirement already satisfied: scipy in c:\\users\\kanis\\miniconda3\\lib\\site-packages (from scikit-elm->StandardScaler) (1.15.3)\n",
      "Requirement already satisfied: joblib>=1.2.0 in c:\\users\\kanis\\miniconda3\\lib\\site-packages (from scikit-learn->StandardScaler) (1.5.1)\n",
      "Requirement already satisfied: threadpoolctl>=3.1.0 in c:\\users\\kanis\\miniconda3\\lib\\site-packages (from scikit-learn->StandardScaler) (3.6.0)\n",
      "Requirement already satisfied: colorama in c:\\users\\kanis\\miniconda3\\lib\\site-packages (from click>=8.1->dask->StandardScaler) (0.4.6)\n",
      "Requirement already satisfied: locket in c:\\users\\kanis\\miniconda3\\lib\\site-packages (from partd>=1.4.0->dask->StandardScaler) (1.0.0)\n",
      "Requirement already satisfied: six>=1.5 in c:\\users\\kanis\\miniconda3\\lib\\site-packages (from python-dateutil>=2.8.2->pandas->StandardScaler) (1.17.0)\n"
     ]
    }
   ],
   "source": [
    "!pip install pandas\n",
    "!pip install --upgrade openpyxl\n",
    "!pip install seaborn\n",
    "!pip install matplotlib\n",
    "!pip install StandardScaler"
   ]
  },
  {
   "cell_type": "code",
   "execution_count": 133,
   "id": "6bb0c0fe",
   "metadata": {},
   "outputs": [],
   "source": [
    "import pandas as pd\n",
    "import numpy as np\n",
    "import matplotlib.pyplot as plt\n",
    "import seaborn as sns\n",
    "from sklearn.preprocessing import StandardScaler\n",
    "from sklearn.cluster import KMeans"
   ]
  },
  {
   "cell_type": "code",
   "execution_count": 134,
   "id": "254916b3",
   "metadata": {},
   "outputs": [],
   "source": [
    "file=pd.read_excel(r\"./input/SampleData.xlsx\")"
   ]
  },
  {
   "cell_type": "code",
   "execution_count": 135,
   "id": "fe0ff113",
   "metadata": {},
   "outputs": [
    {
     "name": "stdout",
     "output_type": "stream",
     "text": [
      "<class 'pandas.core.frame.DataFrame'>\n",
      "RangeIndex: 4000 entries, 0 to 3999\n",
      "Data columns (total 20 columns):\n",
      " #   Column             Non-Null Count  Dtype         \n",
      "---  ------             --------------  -----         \n",
      " 0   unnamed: 0         4000 non-null   int64         \n",
      " 1   invoice_id         4000 non-null   object        \n",
      " 2   customer_id        4000 non-null   object        \n",
      " 3   customer_name      4000 non-null   object        \n",
      " 4   age                3915 non-null   float64       \n",
      " 5   gender             3949 non-null   object        \n",
      " 6   join_date          3871 non-null   datetime64[ns]\n",
      " 7   visit_date         4000 non-null   datetime64[ns]\n",
      " 8   region             3953 non-null   object        \n",
      " 9   category           4000 non-null   object        \n",
      " 10  product_id         4000 non-null   object        \n",
      " 11  product_price      4000 non-null   float64       \n",
      " 12  quantity           4000 non-null   int64         \n",
      " 13  total_spent        4000 non-null   float64       \n",
      " 14  discount           4000 non-null   int64         \n",
      " 15  final_amount       4000 non-null   float64       \n",
      " 16  paymentmethod      4000 non-null   object        \n",
      " 17  membership_status  2420 non-null   object        \n",
      " 18  email              3802 non-null   object        \n",
      " 19  phone              3819 non-null   object        \n",
      "dtypes: datetime64[ns](2), float64(4), int64(3), object(11)\n",
      "memory usage: 625.1+ KB\n"
     ]
    }
   ],
   "source": [
    "df=pd.DataFrame(file)\n",
    "df.columns=df.columns.str.strip().str.lower()\n",
    "df.rename(columns={\n",
    "    'customerid':'customer_id',\n",
    "    'invoiceid':'invoice_id',\n",
    "    'finalamount': 'final_amount',\n",
    "    'joindate': 'join_date',\n",
    "    'visitdate': 'visit_date',\n",
    "    'productid':'product_id',\n",
    "    'productprice':'product_price',\n",
    "    'totalspent':'total_spent',\n",
    "    'paymentmethod ':'payment_method',\n",
    "    'membershipstatus':'membership_status',\n",
    "    'customername':'customer_name'}, inplace=True)\n",
    "df.info()"
   ]
  },
  {
   "cell_type": "code",
   "execution_count": 136,
   "id": "b10c82e0",
   "metadata": {},
   "outputs": [
    {
     "data": {
      "text/plain": [
       "unnamed: 0              0\n",
       "invoice_id              0\n",
       "customer_id             0\n",
       "customer_name           0\n",
       "age                    85\n",
       "gender                 51\n",
       "join_date             129\n",
       "visit_date              0\n",
       "region                 47\n",
       "category                0\n",
       "product_id              0\n",
       "product_price           0\n",
       "quantity                0\n",
       "total_spent             0\n",
       "discount                0\n",
       "final_amount            0\n",
       "paymentmethod           0\n",
       "membership_status    1580\n",
       "email                 198\n",
       "phone                 181\n",
       "dtype: int64"
      ]
     },
     "execution_count": 136,
     "metadata": {},
     "output_type": "execute_result"
    }
   ],
   "source": [
    "df.isnull().sum()"
   ]
  },
  {
   "cell_type": "code",
   "execution_count": 137,
   "id": "8f9d9351",
   "metadata": {},
   "outputs": [],
   "source": [
    "df['age'] = df['age'].fillna(df['age'].median())\n",
    "df['gender']=df['gender'].fillna('Not mentioned')\n",
    "df['join_date']=df['join_date'].fillna(df['visit_date'])\n",
    "df['region']=df['region'].fillna('Not mentioned')\n",
    "df['membership_status']=df['membership_status'].fillna('Not given')\n",
    "df['email']=df['email'].fillna('@gmail.com')\n",
    "df['phone']=df['phone'].fillna('0000000000')\n",
    "df['average_spending']=df['final_amount']/df['quantity']"
   ]
  },
  {
   "cell_type": "markdown",
   "id": "2f17585d",
   "metadata": {},
   "source": [
    "## Perform Exploratory Data Analysis (EDA)"
   ]
  },
  {
   "cell_type": "markdown",
   "id": "b541032c",
   "metadata": {},
   "source": [
    "Age"
   ]
  },
  {
   "cell_type": "code",
   "execution_count": 138,
   "id": "374318bf",
   "metadata": {},
   "outputs": [
    {
     "data": {
      "text/plain": [
       "age_group\n",
       "18-25    14951.85\n",
       "26-35    14302.40\n",
       "60+      13965.98\n",
       "36-45    13413.10\n",
       "46-60    13177.18\n",
       "<18      12635.42\n",
       "Name: final_amount, dtype: float64"
      ]
     },
     "execution_count": 138,
     "metadata": {},
     "output_type": "execute_result"
    }
   ],
   "source": [
    "bins=[17,25,35,45,55,60,100]\n",
    "lables=['<18', '18-25', '26-35', '36-45', '46-60', '60+']\n",
    "df['age_group']=pd.cut(df['age'],bins=bins, labels=lables)\n",
    "age_spending = df.groupby('age_group', observed=False)['final_amount'].mean().sort_values(ascending=False).round(2)\n",
    "age_spending"
   ]
  },
  {
   "cell_type": "code",
   "execution_count": 139,
   "id": "63a3132f",
   "metadata": {},
   "outputs": [
    {
     "name": "stderr",
     "output_type": "stream",
     "text": [
      "C:\\Users\\kanis\\AppData\\Local\\Temp\\ipykernel_9188\\1635748780.py:2: FutureWarning: \n",
      "\n",
      "Passing `palette` without assigning `hue` is deprecated and will be removed in v0.14.0. Assign the `x` variable to `hue` and set `legend=False` for the same effect.\n",
      "\n",
      "  sns.barplot(x=age_spending.index, y=age_spending.values, palette=\"viridis\")\n"
     ]
    },
    {
     "data": {
      "image/png": "[encoded data removed]",
      "text/plain": [
       "<Figure size 800x500 with 1 Axes>"
      ]
     },
     "metadata": {},
     "output_type": "display_data"
    }
   ],
   "source": [
    "plt.figure(figsize=(8, 5))\n",
    "sns.barplot(x=age_spending.index, y=age_spending.values, palette=\"viridis\")\n",
    "plt.title(\"Average Final Amount Spent by Age Group\")\n",
    "plt.xlabel(\"Age Group\")\n",
    "plt.ylabel(\"Average Final Amount\")\n",
    "for i, value in enumerate(age_spending.values):\n",
    "    plt.text(i, value + 1, f'{value:.2f}', ha='center', va='bottom')\n",
    "plt.tight_layout()\n",
    "plt.show() "
   ]
  },
  {
   "cell_type": "markdown",
   "id": "0f65c52f",
   "metadata": {},
   "source": [
    "Gender"
   ]
  },
  {
   "cell_type": "code",
   "execution_count": 140,
   "id": "532a1155",
   "metadata": {},
   "outputs": [
    {
     "data": {
      "text/plain": [
       "np.int64(0)"
      ]
     },
     "execution_count": 140,
     "metadata": {},
     "output_type": "execute_result"
    }
   ],
   "source": [
    "df['age_group'].isnull().sum()\n",
    "# df['gender'].value_counts()"
   ]
  },
  {
   "cell_type": "code",
   "execution_count": 141,
   "id": "9bbc16c1",
   "metadata": {},
   "outputs": [
    {
     "data": {
      "text/plain": [
       "gender\n",
       "Other            14411.71\n",
       "Female           13584.29\n",
       "Male             13572.19\n",
       "Not mentioned    13250.02\n",
       "Name: final_amount, dtype: float64"
      ]
     },
     "execution_count": 141,
     "metadata": {},
     "output_type": "execute_result"
    }
   ],
   "source": [
    "gender_spending=df.groupby('gender')['final_amount'].mean().sort_values(ascending=False).round(2)\n",
    "gender_spending"
   ]
  },
  {
   "cell_type": "markdown",
   "id": "5978f6f3",
   "metadata": {},
   "source": [
    "Region"
   ]
  },
  {
   "cell_type": "code",
   "execution_count": 142,
   "id": "b775d396",
   "metadata": {},
   "outputs": [
    {
     "data": {
      "text/plain": [
       "region\n",
       "North            1008\n",
       "South             990\n",
       "West              981\n",
       "East              974\n",
       "Not mentioned      47\n",
       "Name: count, dtype: int64"
      ]
     },
     "execution_count": 142,
     "metadata": {},
     "output_type": "execute_result"
    }
   ],
   "source": [
    "df['region'].value_counts()"
   ]
  },
  {
   "cell_type": "code",
   "execution_count": 143,
   "id": "76c24002",
   "metadata": {},
   "outputs": [
    {
     "data": {
      "text/plain": [
       "region\n",
       "North    14272.17\n",
       "East     13990.59\n",
       "South    13694.89\n",
       "West     13386.45\n",
       "Name: final_amount, dtype: float64"
      ]
     },
     "execution_count": 143,
     "metadata": {},
     "output_type": "execute_result"
    }
   ],
   "source": [
    "region_spending=df[(~df['region'].str.strip().str.lower().eq('not mentioned'))].groupby('region')['final_amount'].mean().sort_values(ascending=False).round(2)\n",
    "# region_spending = df.groupby('region')['final_amount'].agg(['mean', 'sum', 'count']).sort_values(by='sum', ascending=False)\n",
    "region_spending"
   ]
  },
  {
   "cell_type": "markdown",
   "id": "3f434041",
   "metadata": {},
   "source": [
    "Top spending customers"
   ]
  },
  {
   "cell_type": "code",
   "execution_count": 144,
   "id": "be43b103",
   "metadata": {},
   "outputs": [
    {
     "data": {
      "text/plain": [
       "customer_id  customer_name   \n",
       "CUST7916     Matthew Murray      49703.80\n",
       "CUST6853     Kelly Soto          49415.15\n",
       "CUST7272     Marisa Ramirez      49360.95\n",
       "CUST4623     Kathryn Vaughn      49233.30\n",
       "CUST9144     Shawn Haney         49023.65\n",
       "CUST8657     Kimberly Gross      48789.20\n",
       "CUST6930     Bruce Paul          48668.15\n",
       "CUST8360     Maxwell Goodwin     48455.55\n",
       "CUST9727     Curtis Henderson    48043.50\n",
       "CUST4559     Tracy Bean          47782.05\n",
       "Name: final_amount, dtype: float64"
      ]
     },
     "execution_count": 144,
     "metadata": {},
     "output_type": "execute_result"
    }
   ],
   "source": [
    "top_customers=df.groupby(['customer_id','customer_name'])['final_amount'].sum().sort_values(ascending=False).head(10)\n",
    "top_customers"
   ]
  },
  {
   "cell_type": "markdown",
   "id": "925d4d89",
   "metadata": {},
   "source": [
    "Top spending memebership"
   ]
  },
  {
   "cell_type": "code",
   "execution_count": 145,
   "id": "9d3444dc",
   "metadata": {},
   "outputs": [],
   "source": [
    "top_customers = top_customers.reset_index()\n",
    "top_customers.to_excel('top_customers.xlsx',index=False,engine='openpyxl')"
   ]
  },
  {
   "cell_type": "code",
   "execution_count": 146,
   "id": "46fccb51",
   "metadata": {},
   "outputs": [
    {
     "data": {
      "text/plain": [
       "membership_status\n",
       "Silver      1.140081e+07\n",
       "Platinum    1.127654e+07\n",
       "Gold        1.081698e+07\n",
       "Name: final_amount, dtype: float64"
      ]
     },
     "execution_count": 146,
     "metadata": {},
     "output_type": "execute_result"
    }
   ],
   "source": [
    "top_spending_membership=(df[(~df['membership_status'].str.strip().str.lower().eq('not given'))].groupby('membership_status')['final_amount'].sum().sort_values(ascending=False))\n",
    "top_spending_membership"
   ]
  },
  {
   "cell_type": "code",
   "execution_count": 147,
   "id": "c3af74e1",
   "metadata": {},
   "outputs": [
    {
     "data": {
      "image/png": "[encoded data removed]",
      "text/plain": [
       "<Figure size 800x800 with 1 Axes>"
      ]
     },
     "metadata": {},
     "output_type": "display_data"
    }
   ],
   "source": [
    "top_membership=(df[(~df['membership_status'].str.strip().str.lower().eq('not given'))].groupby('membership_status')['final_amount'].mean().sort_values(ascending=False))\n",
    "top_membership.reset_index()\n",
    "plt.figure(figsize=(8,8))\n",
    "plt.pie(top_membership.values,labels=top_membership.index,autopct='%1.1f%%',startangle=140)\n",
    "plt.title('Average Spending by Customer')\n",
    "plt.axis('equal')  \n",
    "plt.show()"
   ]
  },
  {
   "cell_type": "code",
   "execution_count": 148,
   "id": "c4c2395b",
   "metadata": {},
   "outputs": [
    {
     "data": {
      "text/plain": [
       "age_group  membership_status\n",
       "60+        Platinum             169\n",
       "26-35      Platinum             169\n",
       "18-25      Silver               158\n",
       "26-35      Gold                 157\n",
       "18-25      Gold                 153\n",
       "26-35      Silver               152\n",
       "60+        Gold                 152\n",
       "18-25      Platinum             149\n",
       "36-45      Gold                 146\n",
       "           Silver               144\n",
       "60+        Silver               143\n",
       "36-45      Platinum             143\n",
       "<18        Gold                 130\n",
       "           Platinum             118\n",
       "           Silver               112\n",
       "46-60      Silver                90\n",
       "           Platinum              73\n",
       "           Gold                  62\n",
       "Name: membership_status, dtype: int64"
      ]
     },
     "execution_count": 148,
     "metadata": {},
     "output_type": "execute_result"
    }
   ],
   "source": [
    "membership_age = df[~df['membership_status'].str.strip().str.lower().eq('not given')].groupby(['age_group', 'membership_status'],observed=True)['membership_status'].count() .sort_values(ascending=False)\n",
    "membership_age"
   ]
  },
  {
   "cell_type": "code",
   "execution_count": 149,
   "id": "96f972d9",
   "metadata": {},
   "outputs": [
    {
     "data": {
      "image/png": "[encoded data removed]",
      "text/plain": [
       "<Figure size 1000x600 with 1 Axes>"
      ]
     },
     "metadata": {},
     "output_type": "display_data"
    }
   ],
   "source": [
    "membership_age_df = membership_age.reset_index(name='count')\n",
    "plt.figure(figsize=(10, 6))\n",
    "sns.barplot(data=membership_age_df,x='membership_status',y='count',hue='age_group',palette='viridis')\n",
    "plt.title('Customer Distribution by Membership Status and Age Group')\n",
    "plt.xlabel('Membership Status')\n",
    "plt.ylabel('Number of Customers')\n",
    "plt.legend(title='Age Group', bbox_to_anchor=(0.5, -0.15), loc='upper center',ncol=6,frameon=False)\n",
    "plt.tight_layout()\n",
    "plt.show()"
   ]
  },
  {
   "cell_type": "code",
   "execution_count": 150,
   "id": "c1958516",
   "metadata": {},
   "outputs": [
    {
     "data": {
      "text/plain": [
       "<function matplotlib.pyplot.show(close=None, block=None)>"
      ]
     },
     "execution_count": 150,
     "metadata": {},
     "output_type": "execute_result"
    },
    {
     "data": {
      "image/png": "[encoded data removed]",
      "text/plain": [
       "<Figure size 640x480 with 1 Axes>"
      ]
     },
     "metadata": {},
     "output_type": "display_data"
    }
   ],
   "source": [
    "sns.histplot(df['final_amount'],bins=36,kde=True)\n",
    "plt.title('Amount spend')\n",
    "plt.xlabel('Final amount')\n",
    "plt.ylabel('frequency')\n",
    "plt.show"
   ]
  },
  {
   "cell_type": "markdown",
   "id": "7b5d1e48",
   "metadata": {},
   "source": [
    "## Customer Clustering"
   ]
  },
  {
   "cell_type": "markdown",
   "id": "f79c5c64",
   "metadata": {},
   "source": [
    "Cluster customers based on behavioral features such as:\n",
    ".Frequency of purchase\n",
    ".Average spending\n",
    ".Discount usage"
   ]
  },
  {
   "cell_type": "code",
   "execution_count": 151,
   "id": "4b6f1243",
   "metadata": {},
   "outputs": [
    {
     "data": {
      "text/html": [
       "<div>\n",
       "<style scoped>\n",
       "    .dataframe tbody tr th:only-of-type {\n",
       "        vertical-align: middle;\n",
       "    }\n",
       "\n",
       "    .dataframe tbody tr th {\n",
       "        vertical-align: top;\n",
       "    }\n",
       "\n",
       "    .dataframe thead th {\n",
       "        text-align: right;\n",
       "    }\n",
       "</style>\n",
       "<table border=\"1\" class=\"dataframe\">\n",
       "  <thead>\n",
       "    <tr style=\"text-align: right;\">\n",
       "      <th></th>\n",
       "      <th>customer_id</th>\n",
       "      <th>customer_name</th>\n",
       "      <th>freq_purchase</th>\n",
       "      <th>avg_spend</th>\n",
       "      <th>avg_discount</th>\n",
       "    </tr>\n",
       "  </thead>\n",
       "  <tbody>\n",
       "    <tr>\n",
       "      <th>292</th>\n",
       "      <td>CUST1577</td>\n",
       "      <td>Mark Daniels</td>\n",
       "      <td>2</td>\n",
       "      <td>17982.91</td>\n",
       "      <td>5.0</td>\n",
       "    </tr>\n",
       "    <tr>\n",
       "      <th>3998</th>\n",
       "      <td>CUST9992</td>\n",
       "      <td>Randall King</td>\n",
       "      <td>1</td>\n",
       "      <td>3985.51</td>\n",
       "      <td>0.0</td>\n",
       "    </tr>\n",
       "    <tr>\n",
       "      <th>0</th>\n",
       "      <td>CUST1001</td>\n",
       "      <td>Heather Davis</td>\n",
       "      <td>1</td>\n",
       "      <td>17279.61</td>\n",
       "      <td>0.0</td>\n",
       "    </tr>\n",
       "    <tr>\n",
       "      <th>1</th>\n",
       "      <td>CUST1001</td>\n",
       "      <td>Matthew Phillips</td>\n",
       "      <td>1</td>\n",
       "      <td>27491.82</td>\n",
       "      <td>0.0</td>\n",
       "    </tr>\n",
       "    <tr>\n",
       "      <th>2</th>\n",
       "      <td>CUST1001</td>\n",
       "      <td>Raymond Turner</td>\n",
       "      <td>1</td>\n",
       "      <td>8155.08</td>\n",
       "      <td>15.0</td>\n",
       "    </tr>\n",
       "    <tr>\n",
       "      <th>...</th>\n",
       "      <td>...</td>\n",
       "      <td>...</td>\n",
       "      <td>...</td>\n",
       "      <td>...</td>\n",
       "      <td>...</td>\n",
       "    </tr>\n",
       "    <tr>\n",
       "      <th>26</th>\n",
       "      <td>CUST1058</td>\n",
       "      <td>Paul Martinez</td>\n",
       "      <td>1</td>\n",
       "      <td>17087.60</td>\n",
       "      <td>0.0</td>\n",
       "    </tr>\n",
       "    <tr>\n",
       "      <th>27</th>\n",
       "      <td>CUST1060</td>\n",
       "      <td>Megan Mendez</td>\n",
       "      <td>1</td>\n",
       "      <td>38184.56</td>\n",
       "      <td>0.0</td>\n",
       "    </tr>\n",
       "    <tr>\n",
       "      <th>28</th>\n",
       "      <td>CUST1061</td>\n",
       "      <td>Aaron Reid</td>\n",
       "      <td>1</td>\n",
       "      <td>15394.87</td>\n",
       "      <td>5.0</td>\n",
       "    </tr>\n",
       "    <tr>\n",
       "      <th>29</th>\n",
       "      <td>CUST1063</td>\n",
       "      <td>Andrew Baker</td>\n",
       "      <td>1</td>\n",
       "      <td>10037.14</td>\n",
       "      <td>10.0</td>\n",
       "    </tr>\n",
       "    <tr>\n",
       "      <th>15</th>\n",
       "      <td>CUST1031</td>\n",
       "      <td>Jeremy Lee</td>\n",
       "      <td>1</td>\n",
       "      <td>9421.59</td>\n",
       "      <td>15.0</td>\n",
       "    </tr>\n",
       "  </tbody>\n",
       "</table>\n",
       "<p>3999 rows × 5 columns</p>\n",
       "</div>"
      ],
      "text/plain": [
       "     customer_id     customer_name  freq_purchase  avg_spend  avg_discount\n",
       "292     CUST1577      Mark Daniels              2   17982.91           5.0\n",
       "3998    CUST9992      Randall King              1    3985.51           0.0\n",
       "0       CUST1001     Heather Davis              1   17279.61           0.0\n",
       "1       CUST1001  Matthew Phillips              1   27491.82           0.0\n",
       "2       CUST1001    Raymond Turner              1    8155.08          15.0\n",
       "...          ...               ...            ...        ...           ...\n",
       "26      CUST1058     Paul Martinez              1   17087.60           0.0\n",
       "27      CUST1060      Megan Mendez              1   38184.56           0.0\n",
       "28      CUST1061        Aaron Reid              1   15394.87           5.0\n",
       "29      CUST1063      Andrew Baker              1   10037.14          10.0\n",
       "15      CUST1031        Jeremy Lee              1    9421.59          15.0\n",
       "\n",
       "[3999 rows x 5 columns]"
      ]
     },
     "execution_count": 151,
     "metadata": {},
     "output_type": "execute_result"
    }
   ],
   "source": [
    "behavior=df.groupby(['customer_id','customer_name']).agg({\n",
    "    'invoice_id':'count',\n",
    "    'final_amount':'mean',\n",
    "    'discount':'mean'\n",
    "    }).rename(columns={\n",
    "        'invoice_id':'freq_purchase',\n",
    "        'final_amount':'avg_spend',\n",
    "        'discount':'avg_discount'}).reset_index().round(2).sort_values(by='freq_purchase',ascending=False)\n",
    "behavior"
   ]
  },
  {
   "cell_type": "code",
   "execution_count": 152,
   "id": "2a073bff",
   "metadata": {},
   "outputs": [],
   "source": [
    "X = behavior[['freq_purchase', 'avg_spend', 'avg_discount']]\n",
    "scaler = StandardScaler()\n",
    "X_scaled = scaler.fit_transform(X)"
   ]
  },
  {
   "cell_type": "markdown",
   "id": "61d5229b",
   "metadata": {},
   "source": [
    "## Apply KMeans Clustering"
   ]
  },
  {
   "cell_type": "code",
   "execution_count": 153,
   "id": "28ea04c4",
   "metadata": {},
   "outputs": [],
   "source": [
    "kmeans = KMeans(n_clusters=4, random_state=42)\n",
    "behavior['cluster'] = kmeans.fit_predict(X_scaled)"
   ]
  },
  {
   "cell_type": "code",
   "execution_count": 154,
   "id": "55a45141",
   "metadata": {},
   "outputs": [
    {
     "name": "stdout",
     "output_type": "stream",
     "text": [
      "<class 'pandas.core.frame.DataFrame'>\n",
      "Index: 3999 entries, 292 to 15\n",
      "Data columns (total 6 columns):\n",
      " #   Column         Non-Null Count  Dtype  \n",
      "---  ------         --------------  -----  \n",
      " 0   customer_id    3999 non-null   object \n",
      " 1   customer_name  3999 non-null   object \n",
      " 2   freq_purchase  3999 non-null   int64  \n",
      " 3   avg_spend      3999 non-null   float64\n",
      " 4   avg_discount   3999 non-null   float64\n",
      " 5   cluster        3999 non-null   int32  \n",
      "dtypes: float64(2), int32(1), int64(1), object(2)\n",
      "memory usage: 203.1+ KB\n"
     ]
    }
   ],
   "source": [
    "behavior.info()"
   ]
  },
  {
   "cell_type": "markdown",
   "id": "24273cc2",
   "metadata": {},
   "source": [
    "## Analyze Clusters"
   ]
  },
  {
   "cell_type": "code",
   "execution_count": 155,
   "id": "e73fd003",
   "metadata": {},
   "outputs": [
    {
     "data": {
      "text/html": [
       "<div>\n",
       "<style scoped>\n",
       "    .dataframe tbody tr th:only-of-type {\n",
       "        vertical-align: middle;\n",
       "    }\n",
       "\n",
       "    .dataframe tbody tr th {\n",
       "        vertical-align: top;\n",
       "    }\n",
       "\n",
       "    .dataframe thead th {\n",
       "        text-align: right;\n",
       "    }\n",
       "</style>\n",
       "<table border=\"1\" class=\"dataframe\">\n",
       "  <thead>\n",
       "    <tr style=\"text-align: right;\">\n",
       "      <th></th>\n",
       "      <th>freq_purchase</th>\n",
       "      <th>avg_spend</th>\n",
       "      <th>avg_discount</th>\n",
       "    </tr>\n",
       "    <tr>\n",
       "      <th>cluster</th>\n",
       "      <th></th>\n",
       "      <th></th>\n",
       "      <th></th>\n",
       "    </tr>\n",
       "  </thead>\n",
       "  <tbody>\n",
       "    <tr>\n",
       "      <th>0</th>\n",
       "      <td>1.0</td>\n",
       "      <td>9057.260799</td>\n",
       "      <td>15.330751</td>\n",
       "    </tr>\n",
       "    <tr>\n",
       "      <th>1</th>\n",
       "      <td>1.0</td>\n",
       "      <td>30981.209300</td>\n",
       "      <td>6.171068</td>\n",
       "    </tr>\n",
       "    <tr>\n",
       "      <th>2</th>\n",
       "      <td>2.0</td>\n",
       "      <td>17982.910000</td>\n",
       "      <td>5.000000</td>\n",
       "    </tr>\n",
       "    <tr>\n",
       "      <th>3</th>\n",
       "      <td>1.0</td>\n",
       "      <td>9095.080352</td>\n",
       "      <td>1.687371</td>\n",
       "    </tr>\n",
       "  </tbody>\n",
       "</table>\n",
       "</div>"
      ],
      "text/plain": [
       "         freq_purchase     avg_spend  avg_discount\n",
       "cluster                                           \n",
       "0                  1.0   9057.260799     15.330751\n",
       "1                  1.0  30981.209300      6.171068\n",
       "2                  2.0  17982.910000      5.000000\n",
       "3                  1.0   9095.080352      1.687371"
      ]
     },
     "execution_count": 155,
     "metadata": {},
     "output_type": "execute_result"
    }
   ],
   "source": [
    "summary =behavior.groupby('cluster')[['freq_purchase', 'avg_spend', 'avg_discount']].mean()\n",
    "summary"
   ]
  },
  {
   "cell_type": "code",
   "execution_count": 156,
   "id": "15196020",
   "metadata": {},
   "outputs": [],
   "source": [
    "behavior=behavior.reset_index()\n",
    "behavior.to_excel('final/Behavior.xlsx',index=False,engine='openpyxl')"
   ]
  },
  {
   "cell_type": "code",
   "execution_count": 157,
   "id": "e65c7c55",
   "metadata": {},
   "outputs": [],
   "source": [
    "summary=summary.reset_index()\n",
    "summary.to_excel(\"final/Summary.xlsx\",index=False,engine='openpyxl')"
   ]
  },
  {
   "cell_type": "code",
   "execution_count": 158,
   "id": "3782fea1",
   "metadata": {},
   "outputs": [],
   "source": [
    "df.to_excel(\"final/destination.xlsx\",index=False,engine='openpyxl')"
   ]
  }
 ],
 "metadata": {
  "kernelspec": {
   "display_name": "base",
   "language": "python",
   "name": "python3"
  },
  "language_info": {
   "codemirror_mode": {
    "name": "ipython",
    "version": 3
   },
   "file_extension": ".py",
   "mimetype": "text/x-python",
   "name": "python",
   "nbconvert_exporter": "python",
   "pygments_lexer": "ipython3",
   "version": "3.13.2"
  }
 },
 "nbformat": 4,
 "nbformat_minor": 5
}
